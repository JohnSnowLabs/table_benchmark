{
  "cells": [
    {
      "cell_type": "markdown",
      "metadata": {
        "id": "DfXPSvmXmFeB"
      },
      "source": [
        "# Spark-ocr cells detection evaluation on ICDAR 2019 Track B2 modern part dataset\n",
        "\n",
        "The aim of this notebook is to perform evaludation of spark-ocr cells detections algo on dataset of ICDAR 2019 Track B2 modern\n",
        "\n",
        "## ICDAR 2019 and evaluation script installation\n",
        "\n",
        "At first download test samples\n",
        "\n"
      ]
    },
    {
      "cell_type": "code",
      "execution_count": null,
      "metadata": {
        "colab": {
          "base_uri": "https://localhost:8080/"
        },
        "id": "_cWgAQvA4V7B",
        "outputId": "55b77f58-a413-4470-9b24-2ffd3a77f768"
      },
      "outputs": [
        {
          "output_type": "stream",
          "name": "stdout",
          "text": [
            "Downloading...\n",
            "From: https://drive.google.com/uc?id=1QgDArwFFqSp_gedCg82iSbtxgcn9BUWA\n",
            "To: /content/TRACKB2_test_modern.zip\n",
            "\r  0% 0.00/31.7M [00:00<?, ?B/s]\r 15% 4.72M/31.7M [00:00<00:00, 37.3MB/s]\r100% 31.7M/31.7M [00:00<00:00, 160MB/s] \n",
            "Archive:  TRACKB2_test_modern.zip\n",
            "   creating: TRACKB2_test_modern/\n",
            "  inflating: TRACKB2_test_modern/cTDaR_t10000.jpg  \n",
            "  inflating: TRACKB2_test_modern/cTDaR_t10001.jpg  \n",
            "  inflating: TRACKB2_test_modern/cTDaR_t10002.jpg  \n",
            "  inflating: TRACKB2_test_modern/cTDaR_t10003.jpg  \n",
            "  inflating: TRACKB2_test_modern/cTDaR_t10004.jpg  \n",
            "  inflating: TRACKB2_test_modern/cTDaR_t10005.jpg  \n",
            "  inflating: TRACKB2_test_modern/cTDaR_t10006.jpg  \n",
            "  inflating: TRACKB2_test_modern/cTDaR_t10007.jpg  \n",
            "  inflating: TRACKB2_test_modern/cTDaR_t10008.jpg  \n",
            "  inflating: TRACKB2_test_modern/cTDaR_t10009.jpg  \n",
            "  inflating: TRACKB2_test_modern/cTDaR_t10010.jpg  \n",
            "  inflating: TRACKB2_test_modern/cTDaR_t10011.jpg  \n",
            "  inflating: TRACKB2_test_modern/cTDaR_t10012.jpg  \n",
            "  inflating: TRACKB2_test_modern/cTDaR_t10013.jpg  \n",
            "  inflating: TRACKB2_test_modern/cTDaR_t10014.jpg  \n",
            "  inflating: TRACKB2_test_modern/cTDaR_t10015.jpg  \n",
            "  inflating: TRACKB2_test_modern/cTDaR_t10016.jpg  \n",
            "  inflating: TRACKB2_test_modern/cTDaR_t10017.jpg  \n",
            "  inflating: TRACKB2_test_modern/cTDaR_t10018.jpg  \n",
            "  inflating: TRACKB2_test_modern/cTDaR_t10019.jpg  \n",
            "  inflating: TRACKB2_test_modern/cTDaR_t10020.jpg  \n",
            "  inflating: TRACKB2_test_modern/cTDaR_t10021.jpg  \n",
            "  inflating: TRACKB2_test_modern/cTDaR_t10022.jpg  \n",
            "  inflating: TRACKB2_test_modern/cTDaR_t10023.jpg  \n",
            "  inflating: TRACKB2_test_modern/cTDaR_t10024.jpg  \n",
            "  inflating: TRACKB2_test_modern/cTDaR_t10025.jpg  \n",
            "  inflating: TRACKB2_test_modern/cTDaR_t10026.jpg  \n",
            "  inflating: TRACKB2_test_modern/cTDaR_t10027.jpg  \n",
            "  inflating: TRACKB2_test_modern/cTDaR_t10028.jpg  \n",
            "  inflating: TRACKB2_test_modern/cTDaR_t10029.jpg  \n",
            "  inflating: TRACKB2_test_modern/cTDaR_t10030.jpg  \n",
            "  inflating: TRACKB2_test_modern/cTDaR_t10031.jpg  \n",
            "  inflating: TRACKB2_test_modern/cTDaR_t10032.jpg  \n",
            "  inflating: TRACKB2_test_modern/cTDaR_t10033.jpg  \n",
            "  inflating: TRACKB2_test_modern/cTDaR_t10034.jpg  \n",
            "  inflating: TRACKB2_test_modern/cTDaR_t10035.jpg  \n",
            "  inflating: TRACKB2_test_modern/cTDaR_t10036.jpg  \n",
            "  inflating: TRACKB2_test_modern/cTDaR_t10037.jpg  \n",
            "  inflating: TRACKB2_test_modern/cTDaR_t10038.jpg  \n",
            "  inflating: TRACKB2_test_modern/cTDaR_t10039.jpg  \n",
            "  inflating: TRACKB2_test_modern/cTDaR_t10040.jpg  \n",
            "  inflating: TRACKB2_test_modern/cTDaR_t10041.jpg  \n",
            "  inflating: TRACKB2_test_modern/cTDaR_t10042.jpg  \n",
            "  inflating: TRACKB2_test_modern/cTDaR_t10043.jpg  \n",
            "  inflating: TRACKB2_test_modern/cTDaR_t10044.jpg  \n",
            "  inflating: TRACKB2_test_modern/cTDaR_t10045.jpg  \n",
            "  inflating: TRACKB2_test_modern/cTDaR_t10046.jpg  \n",
            "  inflating: TRACKB2_test_modern/cTDaR_t10047.jpg  \n",
            "  inflating: TRACKB2_test_modern/cTDaR_t10048.jpg  \n",
            "  inflating: TRACKB2_test_modern/cTDaR_t10049.jpg  \n",
            "  inflating: TRACKB2_test_modern/cTDaR_t10050.jpg  \n",
            "  inflating: TRACKB2_test_modern/cTDaR_t10051.jpg  \n",
            "  inflating: TRACKB2_test_modern/cTDaR_t10052.jpg  \n",
            "  inflating: TRACKB2_test_modern/cTDaR_t10053.jpg  \n",
            "  inflating: TRACKB2_test_modern/cTDaR_t10054.jpg  \n",
            "  inflating: TRACKB2_test_modern/cTDaR_t10055.jpg  \n",
            "  inflating: TRACKB2_test_modern/cTDaR_t10056.jpg  \n",
            "  inflating: TRACKB2_test_modern/cTDaR_t10057.jpg  \n",
            "  inflating: TRACKB2_test_modern/cTDaR_t10058.jpg  \n",
            "  inflating: TRACKB2_test_modern/cTDaR_t10059.jpg  \n",
            "  inflating: TRACKB2_test_modern/cTDaR_t10060.jpg  \n",
            "  inflating: TRACKB2_test_modern/cTDaR_t10061.jpg  \n",
            "  inflating: TRACKB2_test_modern/cTDaR_t10062.jpg  \n",
            "  inflating: TRACKB2_test_modern/cTDaR_t10063.jpg  \n",
            "  inflating: TRACKB2_test_modern/cTDaR_t10064.jpg  \n",
            "  inflating: TRACKB2_test_modern/cTDaR_t10065.jpg  \n",
            "  inflating: TRACKB2_test_modern/cTDaR_t10066.jpg  \n",
            "  inflating: TRACKB2_test_modern/cTDaR_t10067.jpg  \n",
            "  inflating: TRACKB2_test_modern/cTDaR_t10068.jpg  \n",
            "  inflating: TRACKB2_test_modern/cTDaR_t10069.jpg  \n",
            "  inflating: TRACKB2_test_modern/cTDaR_t10070.jpg  \n",
            "  inflating: TRACKB2_test_modern/cTDaR_t10071.jpg  \n",
            "  inflating: TRACKB2_test_modern/cTDaR_t10072.jpg  \n",
            "  inflating: TRACKB2_test_modern/cTDaR_t10073.jpg  \n",
            "  inflating: TRACKB2_test_modern/cTDaR_t10074.jpg  \n",
            "  inflating: TRACKB2_test_modern/cTDaR_t10075.jpg  \n",
            "  inflating: TRACKB2_test_modern/cTDaR_t10076.jpg  \n",
            "  inflating: TRACKB2_test_modern/cTDaR_t10077.jpg  \n",
            "  inflating: TRACKB2_test_modern/cTDaR_t10078.jpg  \n",
            "  inflating: TRACKB2_test_modern/cTDaR_t10079.jpg  \n",
            "  inflating: TRACKB2_test_modern/cTDaR_t10080.jpg  \n",
            "  inflating: TRACKB2_test_modern/cTDaR_t10081.jpg  \n",
            "  inflating: TRACKB2_test_modern/cTDaR_t10082.jpg  \n",
            "  inflating: TRACKB2_test_modern/cTDaR_t10083.jpg  \n",
            "  inflating: TRACKB2_test_modern/cTDaR_t10084.jpg  \n",
            "  inflating: TRACKB2_test_modern/cTDaR_t10085.jpg  \n",
            "  inflating: TRACKB2_test_modern/cTDaR_t10086.jpg  \n",
            "  inflating: TRACKB2_test_modern/cTDaR_t10087.jpg  \n",
            "  inflating: TRACKB2_test_modern/cTDaR_t10088.jpg  \n",
            "  inflating: TRACKB2_test_modern/cTDaR_t10089.jpg  \n",
            "  inflating: TRACKB2_test_modern/cTDaR_t10090.jpg  \n",
            "  inflating: TRACKB2_test_modern/cTDaR_t10091.jpg  \n",
            "  inflating: TRACKB2_test_modern/cTDaR_t10092.jpg  \n",
            "  inflating: TRACKB2_test_modern/cTDaR_t10093.jpg  \n",
            "  inflating: TRACKB2_test_modern/cTDaR_t10094.jpg  \n",
            "  inflating: TRACKB2_test_modern/cTDaR_t10095.jpg  \n",
            "  inflating: TRACKB2_test_modern/cTDaR_t10096.jpg  \n",
            "  inflating: TRACKB2_test_modern/cTDaR_t10097.jpg  \n",
            "  inflating: TRACKB2_test_modern/cTDaR_t10098.jpg  \n",
            "  inflating: TRACKB2_test_modern/cTDaR_t10099.jpg  \n"
          ]
        }
      ],
      "source": [
        "!gdown 1QgDArwFFqSp_gedCg82iSbtxgcn9BUWA\n",
        "!unzip TRACKB2_test_modern.zip"
      ]
    },
    {
      "cell_type": "code",
      "execution_count": null,
      "metadata": {
        "colab": {
          "base_uri": "https://localhost:8080/"
        },
        "id": "HZNXzJ0y4iaC",
        "outputId": "5237c3b4-c882-4922-8ddc-55b571e7e3e5"
      },
      "outputs": [
        {
          "output_type": "stream",
          "name": "stdout",
          "text": [
            "Cloning into 'ctdar_measurement_tool'...\n",
            "remote: Enumerating objects: 1668, done.\u001b[K\n",
            "remote: Total 1668 (delta 0), reused 0 (delta 0), pack-reused 1668\u001b[K\n",
            "Receiving objects: 100% (1668/1668), 19.09 MiB | 14.86 MiB/s, done.\n",
            "Resolving deltas: 100% (243/243), done.\n",
            "Cloning into 'ICDAR2019_cTDaR'...\n",
            "remote: Enumerating objects: 5643, done.\u001b[K\n",
            "remote: Counting objects: 100% (110/110), done.\u001b[K\n",
            "remote: Compressing objects: 100% (18/18), done.\u001b[K\n",
            "remote: Total 5643 (delta 94), reused 101 (delta 92), pack-reused 5533\u001b[K\n",
            "Receiving objects: 100% (5643/5643), 3.81 GiB | 19.50 MiB/s, done.\n",
            "Resolving deltas: 100% (3128/3128), done.\n",
            "Checking out files: 100% (5458/5458), done.\n"
          ]
        }
      ],
      "source": [
        "!git clone https://github.com/cndplab-founder/ctdar_measurement_tool.git\n",
        "!git clone https://github.com/cndplab-founder/ICDAR2019_cTDaR.git"
      ]
    },
    {
      "cell_type": "code",
      "execution_count": null,
      "metadata": {
        "id": "3DbwVz9hSKwz"
      },
      "outputs": [],
      "source": [
        "!mkdir /content/ctdar_measurement_tool/annotations/trackB2/\n",
        "!cp /content/ICDAR2019_cTDaR/test_ground_truth/TRACKB2/cTDaR_t1* /content/ctdar_measurement_tool/annotations/trackB2/"
      ]
    },
    {
      "cell_type": "markdown",
      "metadata": {
        "id": "H60O0ifb8dKE"
      },
      "source": [
        "## Spark-ocr installation"
      ]
    },
    {
      "cell_type": "code",
      "execution_count": null,
      "metadata": {
        "colab": {
          "base_uri": "https://localhost:8080/"
        },
        "id": "nZ9tyDicA_eE",
        "outputId": "bed86ee0-dd81-443e-a935-50656d2be9a7"
      },
      "outputs": [
        {
          "output_type": "stream",
          "name": "stdout",
          "text": [
            "--2022-10-19 09:04:09--  https://www.dropbox.com/s/7f2ji5zx1ai9rnd/spark_ocr-4.0.1%2Bspark30-py3-none-any.whl\n",
            "Resolving www.dropbox.com (www.dropbox.com)... 162.125.65.18, 2620:100:6027:18::a27d:4812\n",
            "Connecting to www.dropbox.com (www.dropbox.com)|162.125.65.18|:443... connected.\n",
            "HTTP request sent, awaiting response... 302 Found\n",
            "Location: /s/raw/7f2ji5zx1ai9rnd/spark_ocr-4.0.1%2Bspark30-py3-none-any.whl [following]\n",
            "--2022-10-19 09:04:10--  https://www.dropbox.com/s/raw/7f2ji5zx1ai9rnd/spark_ocr-4.0.1%2Bspark30-py3-none-any.whl\n",
            "Reusing existing connection to www.dropbox.com:443.\n",
            "HTTP request sent, awaiting response... 302 Found\n",
            "Location: https://uc69d3cdaf84d948fcbacecd7583.dl.dropboxusercontent.com/cd/0/inline/BvHu-MMOCI7ZjGKTqdLZkzJZH-l_VS6PAHtnpBM6In3MvcZtPHVDjwfmM9kwaoH2GAc1Q9NLCYCxj2qChFT_mN1LrK6-3gRUykObqtBso_zOijv4hZ_oVgkHbXam5IEzs3Q9EqQc9ZpNDGAMWU_bomB6ljlho1Lnrvjra24ohTYwxQ/file# [following]\n",
            "--2022-10-19 09:04:10--  https://uc69d3cdaf84d948fcbacecd7583.dl.dropboxusercontent.com/cd/0/inline/BvHu-MMOCI7ZjGKTqdLZkzJZH-l_VS6PAHtnpBM6In3MvcZtPHVDjwfmM9kwaoH2GAc1Q9NLCYCxj2qChFT_mN1LrK6-3gRUykObqtBso_zOijv4hZ_oVgkHbXam5IEzs3Q9EqQc9ZpNDGAMWU_bomB6ljlho1Lnrvjra24ohTYwxQ/file\n",
            "Resolving uc69d3cdaf84d948fcbacecd7583.dl.dropboxusercontent.com (uc69d3cdaf84d948fcbacecd7583.dl.dropboxusercontent.com)... 162.125.65.15, 2620:100:6020:15::a27d:400f\n",
            "Connecting to uc69d3cdaf84d948fcbacecd7583.dl.dropboxusercontent.com (uc69d3cdaf84d948fcbacecd7583.dl.dropboxusercontent.com)|162.125.65.15|:443... connected.\n",
            "HTTP request sent, awaiting response... 302 Found\n",
            "Location: /cd/0/inline2/BvGCoZnMyy4cU9wGxrqUPBdFZye9_VnGU9-crUCr7MXALAix51emDPxZ0eRJoXPPAUZ_YG1bh8osW2J7Kmj2sMH-0o_tUiurmN4PQq8brNCgXVZ9YyvJcqJnIE6vLH4ndQru-_ZAOAb4sFyRRFF5b-Q-AnDJJvtiSk2Lbi26EWw3McQ1vTndugMu_1x9HlVAr4d9RCLpWA-zJ_Qa2R4Nbha4GgtA_KFGhEdSCQhvtPcE65V36CfME18TidrtUsLVih-8mJFsteOTb2bkgROkzGnbr7NK3VTkmdkyoSLs62crRnKxXSl2MNIkCSM_Pk05ooswI-0zMiun9XFogh73L2Z6SWc16FK0Pb5p2kAJ0Br8LkW-FmM2jsRNT5kWQvjXugzVR_A0hJ_Be1yRUC5UxfE_Kk6TM3nIdz4DETulQ0HApQ/file [following]\n",
            "--2022-10-19 09:04:11--  https://uc69d3cdaf84d948fcbacecd7583.dl.dropboxusercontent.com/cd/0/inline2/BvGCoZnMyy4cU9wGxrqUPBdFZye9_VnGU9-crUCr7MXALAix51emDPxZ0eRJoXPPAUZ_YG1bh8osW2J7Kmj2sMH-0o_tUiurmN4PQq8brNCgXVZ9YyvJcqJnIE6vLH4ndQru-_ZAOAb4sFyRRFF5b-Q-AnDJJvtiSk2Lbi26EWw3McQ1vTndugMu_1x9HlVAr4d9RCLpWA-zJ_Qa2R4Nbha4GgtA_KFGhEdSCQhvtPcE65V36CfME18TidrtUsLVih-8mJFsteOTb2bkgROkzGnbr7NK3VTkmdkyoSLs62crRnKxXSl2MNIkCSM_Pk05ooswI-0zMiun9XFogh73L2Z6SWc16FK0Pb5p2kAJ0Br8LkW-FmM2jsRNT5kWQvjXugzVR_A0hJ_Be1yRUC5UxfE_Kk6TM3nIdz4DETulQ0HApQ/file\n",
            "Reusing existing connection to uc69d3cdaf84d948fcbacecd7583.dl.dropboxusercontent.com:443.\n",
            "HTTP request sent, awaiting response... 200 OK\n",
            "Length: 32562855 (31M) [application/octet-stream]\n",
            "Saving to: ‘spark_ocr-4.0.1+spark30-py3-none-any.whl’\n",
            "\n",
            "spark_ocr-4.0.1+spa 100%[===================>]  31.05M  22.7MB/s    in 1.4s    \n",
            "\n",
            "2022-10-19 09:04:12 (22.7 MB/s) - ‘spark_ocr-4.0.1+spark30-py3-none-any.whl’ saved [32562855/32562855]\n",
            "\n",
            "--2022-10-19 09:04:13--  https://www.dropbox.com/s/4obdd1de6iwlrg9/spark-ocr-assembly-4.0.1.jar\n",
            "Resolving www.dropbox.com (www.dropbox.com)... 162.125.65.18, 2620:100:6027:18::a27d:4812\n",
            "Connecting to www.dropbox.com (www.dropbox.com)|162.125.65.18|:443... connected.\n",
            "HTTP request sent, awaiting response... 302 Found\n",
            "Location: /s/raw/4obdd1de6iwlrg9/spark-ocr-assembly-4.0.1.jar [following]\n",
            "--2022-10-19 09:04:13--  https://www.dropbox.com/s/raw/4obdd1de6iwlrg9/spark-ocr-assembly-4.0.1.jar\n",
            "Reusing existing connection to www.dropbox.com:443.\n",
            "HTTP request sent, awaiting response... 302 Found\n",
            "Location: https://ucee626cae727cb3f5b5eba0d7cd.dl.dropboxusercontent.com/cd/0/inline/BvHoZlca8-mp7IzsRggphFmd0wOedh2hqc6D8fPSDQId1bBI5C3s3SA_UY_ZvsU6sN13iR0dTY_jz2WrC7VNJYbGv8aRABerACBaHZQNNesqUdvU_s2XfJaDDHhDmbZXGXskxWZxWHf9w7k-0BGk7OAj2QhgsGU37NtzPkHbBdxB2Q/file# [following]\n",
            "--2022-10-19 09:04:13--  https://ucee626cae727cb3f5b5eba0d7cd.dl.dropboxusercontent.com/cd/0/inline/BvHoZlca8-mp7IzsRggphFmd0wOedh2hqc6D8fPSDQId1bBI5C3s3SA_UY_ZvsU6sN13iR0dTY_jz2WrC7VNJYbGv8aRABerACBaHZQNNesqUdvU_s2XfJaDDHhDmbZXGXskxWZxWHf9w7k-0BGk7OAj2QhgsGU37NtzPkHbBdxB2Q/file\n",
            "Resolving ucee626cae727cb3f5b5eba0d7cd.dl.dropboxusercontent.com (ucee626cae727cb3f5b5eba0d7cd.dl.dropboxusercontent.com)... 162.125.66.15, 2620:100:6020:15::a27d:400f\n",
            "Connecting to ucee626cae727cb3f5b5eba0d7cd.dl.dropboxusercontent.com (ucee626cae727cb3f5b5eba0d7cd.dl.dropboxusercontent.com)|162.125.66.15|:443... connected.\n",
            "HTTP request sent, awaiting response... 302 Found\n",
            "Location: /cd/0/inline2/BvGkb_Y2haLl4Nv2anz92oSQgNX7sRFyNdj-X97-fyVAUj3I51ZXqE9G4FEZKSC_s75D8mQdVKgOCWJRiru2yBOr-Z3ajr1wYd5aacWt9Q6c3O8OpgqHA6RqlStsYS5s2qNmaQ4VeDpsS2UPhEyS1GcTJ5Afmzdnizqbmycg8d18R0tzGIs1mGj9Cob1-F-qI1_qLrzwvIbdF0ErIqsp8-SyTDDy0rMKKe87xaH21jKWj-pXNDxPmgsvW0krcW6TRwGyiexY6SHmlPfyRit6H1IWawwpS2qdHjOsHC_wcIwor3ZdE-qt5JIilhvSldPEKzZ5uHftk1dO-9NhXku4N9jdnpJ0Afeyk_tfn1LTylXV5IrZLFrNAkuPbxK2wzlDeBB1LpmxgcCxXFn-HluCo7-YuCnX5g09xOEpBexTskJ0KQ/file [following]\n",
            "--2022-10-19 09:04:14--  https://ucee626cae727cb3f5b5eba0d7cd.dl.dropboxusercontent.com/cd/0/inline2/BvGkb_Y2haLl4Nv2anz92oSQgNX7sRFyNdj-X97-fyVAUj3I51ZXqE9G4FEZKSC_s75D8mQdVKgOCWJRiru2yBOr-Z3ajr1wYd5aacWt9Q6c3O8OpgqHA6RqlStsYS5s2qNmaQ4VeDpsS2UPhEyS1GcTJ5Afmzdnizqbmycg8d18R0tzGIs1mGj9Cob1-F-qI1_qLrzwvIbdF0ErIqsp8-SyTDDy0rMKKe87xaH21jKWj-pXNDxPmgsvW0krcW6TRwGyiexY6SHmlPfyRit6H1IWawwpS2qdHjOsHC_wcIwor3ZdE-qt5JIilhvSldPEKzZ5uHftk1dO-9NhXku4N9jdnpJ0Afeyk_tfn1LTylXV5IrZLFrNAkuPbxK2wzlDeBB1LpmxgcCxXFn-HluCo7-YuCnX5g09xOEpBexTskJ0KQ/file\n",
            "Reusing existing connection to ucee626cae727cb3f5b5eba0d7cd.dl.dropboxusercontent.com:443.\n",
            "HTTP request sent, awaiting response... 200 OK\n",
            "Length: 366765206 (350M) [application/java-archive]\n",
            "Saving to: ‘spark-ocr-assembly-4.0.1.jar’\n",
            "\n",
            "spark-ocr-assembly- 100%[===================>] 349.77M  19.8MB/s    in 18s     \n",
            "\n",
            "2022-10-19 09:04:32 (19.7 MB/s) - ‘spark-ocr-assembly-4.0.1.jar’ saved [366765206/366765206]\n",
            "\n"
          ]
        }
      ],
      "source": [
        "!wget https://www.dropbox.com/s/7f2ji5zx1ai9rnd/spark_ocr-4.0.1%2Bspark30-py3-none-any.whl\n",
        "!wget https://www.dropbox.com/s/4obdd1de6iwlrg9/spark-ocr-assembly-4.0.1.jar"
      ]
    },
    {
      "cell_type": "code",
      "execution_count": null,
      "metadata": {
        "colab": {
          "base_uri": "https://localhost:8080/"
        },
        "id": "T8DVcXk1EI1o",
        "outputId": "f4c4d1ee-8f05-4f9c-b36c-930de3ffe364"
      },
      "outputs": [
        {
          "output_type": "stream",
          "name": "stdout",
          "text": [
            "Looking in indexes: https://pypi.org/simple, https://us-python.pkg.dev/colab-wheels/public/simple/\n",
            "Collecting spark-nlp==4.0.0\n",
            "  Downloading spark_nlp-4.0.0-py2.py3-none-any.whl (531 kB)\n",
            "\u001b[K     |████████████████████████████████| 531 kB 14.0 MB/s \n",
            "\u001b[?25hInstalling collected packages: spark-nlp\n",
            "Successfully installed spark-nlp-4.0.0\n"
          ]
        }
      ],
      "source": [
        "%pip install spark-nlp==4.0.0"
      ]
    },
    {
      "cell_type": "code",
      "execution_count": null,
      "metadata": {
        "colab": {
          "base_uri": "https://localhost:8080/",
          "height": 1000
        },
        "id": "obD2cfMoVYKm",
        "outputId": "6d53cf4d-3ca8-441b-b71e-69762c777c04"
      },
      "outputs": [
        {
          "output_type": "stream",
          "name": "stdout",
          "text": [
            "Looking in indexes: https://pypi.org/simple, https://us-python.pkg.dev/colab-wheels/public/simple/\n",
            "Processing ./spark_ocr-4.0.1+spark30-py3-none-any.whl\n",
            "Collecting scikit-image==0.18.1\n",
            "  Downloading scikit_image-0.18.1-cp37-cp37m-manylinux1_x86_64.whl (29.2 MB)\n",
            "\u001b[K     |████████████████████████████████| 29.2 MB 1.2 MB/s \n",
            "\u001b[?25hCollecting craft-text-detector==0.4.2\n",
            "  Downloading craft_text_detector-0.4.2-py3-none-any.whl (18 kB)\n",
            "Collecting numpy==1.19.5\n",
            "  Downloading numpy-1.19.5-cp37-cp37m-manylinux2010_x86_64.whl (14.8 MB)\n",
            "\u001b[K     |████████████████████████████████| 14.8 MB 66.4 MB/s \n",
            "\u001b[?25hCollecting implicits==1.0.2\n",
            "  Downloading implicits-1.0.2-py3-none-any.whl (3.7 kB)\n",
            "Collecting py4j==0.10.9\n",
            "  Downloading py4j-0.10.9-py2.py3-none-any.whl (198 kB)\n",
            "\u001b[K     |████████████████████████████████| 198 kB 88.8 MB/s \n",
            "\u001b[?25hCollecting pillow==8.1.2\n",
            "  Downloading Pillow-8.1.2-cp37-cp37m-manylinux1_x86_64.whl (2.2 MB)\n",
            "\u001b[K     |████████████████████████████████| 2.2 MB 88.8 MB/s \n",
            "\u001b[?25hCollecting pyspark==3.0.2\n",
            "  Downloading pyspark-3.0.2.tar.gz (204.8 MB)\n",
            "\u001b[K     |████████████████████████████████| 204.8 MB 54 kB/s \n",
            "\u001b[?25hRequirement already satisfied: gdown>=3.10.1 in /usr/local/lib/python3.7/dist-packages (from craft-text-detector==0.4.2->spark-ocr==4.0.1+spark30) (4.4.0)\n",
            "Requirement already satisfied: scipy>=1.3.2 in /usr/local/lib/python3.7/dist-packages (from craft-text-detector==0.4.2->spark-ocr==4.0.1+spark30) (1.7.3)\n",
            "Requirement already satisfied: torchvision>=0.7.0 in /usr/local/lib/python3.7/dist-packages (from craft-text-detector==0.4.2->spark-ocr==4.0.1+spark30) (0.13.1+cu113)\n",
            "Collecting opencv-python<4.5.4.62,>=3.4.8.29\n",
            "  Downloading opencv_python-4.5.4.60-cp37-cp37m-manylinux_2_17_x86_64.manylinux2014_x86_64.whl (60.3 MB)\n",
            "\u001b[K     |████████████████████████████████| 60.3 MB 88 kB/s \n",
            "\u001b[?25hRequirement already satisfied: torch>=1.6.0 in /usr/local/lib/python3.7/dist-packages (from craft-text-detector==0.4.2->spark-ocr==4.0.1+spark30) (1.12.1+cu113)\n",
            "Requirement already satisfied: networkx>=2.0 in /usr/local/lib/python3.7/dist-packages (from scikit-image==0.18.1->spark-ocr==4.0.1+spark30) (2.6.3)\n",
            "Requirement already satisfied: PyWavelets>=1.1.1 in /usr/local/lib/python3.7/dist-packages (from scikit-image==0.18.1->spark-ocr==4.0.1+spark30) (1.3.0)\n",
            "Requirement already satisfied: matplotlib!=3.0.0,>=2.0.0 in /usr/local/lib/python3.7/dist-packages (from scikit-image==0.18.1->spark-ocr==4.0.1+spark30) (3.2.2)\n",
            "Requirement already satisfied: tifffile>=2019.7.26 in /usr/local/lib/python3.7/dist-packages (from scikit-image==0.18.1->spark-ocr==4.0.1+spark30) (2021.11.2)\n",
            "Requirement already satisfied: imageio>=2.3.0 in /usr/local/lib/python3.7/dist-packages (from scikit-image==0.18.1->spark-ocr==4.0.1+spark30) (2.9.0)\n",
            "Requirement already satisfied: beautifulsoup4 in /usr/local/lib/python3.7/dist-packages (from gdown>=3.10.1->craft-text-detector==0.4.2->spark-ocr==4.0.1+spark30) (4.6.3)\n",
            "Requirement already satisfied: filelock in /usr/local/lib/python3.7/dist-packages (from gdown>=3.10.1->craft-text-detector==0.4.2->spark-ocr==4.0.1+spark30) (3.8.0)\n",
            "Requirement already satisfied: tqdm in /usr/local/lib/python3.7/dist-packages (from gdown>=3.10.1->craft-text-detector==0.4.2->spark-ocr==4.0.1+spark30) (4.64.1)\n",
            "Requirement already satisfied: requests[socks] in /usr/local/lib/python3.7/dist-packages (from gdown>=3.10.1->craft-text-detector==0.4.2->spark-ocr==4.0.1+spark30) (2.23.0)\n",
            "Requirement already satisfied: six in /usr/local/lib/python3.7/dist-packages (from gdown>=3.10.1->craft-text-detector==0.4.2->spark-ocr==4.0.1+spark30) (1.15.0)\n",
            "Requirement already satisfied: cycler>=0.10 in /usr/local/lib/python3.7/dist-packages (from matplotlib!=3.0.0,>=2.0.0->scikit-image==0.18.1->spark-ocr==4.0.1+spark30) (0.11.0)\n",
            "Requirement already satisfied: python-dateutil>=2.1 in /usr/local/lib/python3.7/dist-packages (from matplotlib!=3.0.0,>=2.0.0->scikit-image==0.18.1->spark-ocr==4.0.1+spark30) (2.8.2)\n",
            "Requirement already satisfied: kiwisolver>=1.0.1 in /usr/local/lib/python3.7/dist-packages (from matplotlib!=3.0.0,>=2.0.0->scikit-image==0.18.1->spark-ocr==4.0.1+spark30) (1.4.4)\n",
            "Requirement already satisfied: pyparsing!=2.0.4,!=2.1.2,!=2.1.6,>=2.0.1 in /usr/local/lib/python3.7/dist-packages (from matplotlib!=3.0.0,>=2.0.0->scikit-image==0.18.1->spark-ocr==4.0.1+spark30) (3.0.9)\n",
            "Requirement already satisfied: typing-extensions in /usr/local/lib/python3.7/dist-packages (from kiwisolver>=1.0.1->matplotlib!=3.0.0,>=2.0.0->scikit-image==0.18.1->spark-ocr==4.0.1+spark30) (4.1.1)\n",
            "Requirement already satisfied: urllib3!=1.25.0,!=1.25.1,<1.26,>=1.21.1 in /usr/local/lib/python3.7/dist-packages (from requests[socks]->gdown>=3.10.1->craft-text-detector==0.4.2->spark-ocr==4.0.1+spark30) (1.24.3)\n",
            "Requirement already satisfied: idna<3,>=2.5 in /usr/local/lib/python3.7/dist-packages (from requests[socks]->gdown>=3.10.1->craft-text-detector==0.4.2->spark-ocr==4.0.1+spark30) (2.10)\n",
            "Requirement already satisfied: certifi>=2017.4.17 in /usr/local/lib/python3.7/dist-packages (from requests[socks]->gdown>=3.10.1->craft-text-detector==0.4.2->spark-ocr==4.0.1+spark30) (2022.9.24)\n",
            "Requirement already satisfied: chardet<4,>=3.0.2 in /usr/local/lib/python3.7/dist-packages (from requests[socks]->gdown>=3.10.1->craft-text-detector==0.4.2->spark-ocr==4.0.1+spark30) (3.0.4)\n",
            "Requirement already satisfied: PySocks!=1.5.7,>=1.5.6 in /usr/local/lib/python3.7/dist-packages (from requests[socks]->gdown>=3.10.1->craft-text-detector==0.4.2->spark-ocr==4.0.1+spark30) (1.7.1)\n",
            "Building wheels for collected packages: pyspark\n",
            "  Building wheel for pyspark (setup.py) ... \u001b[?25l\u001b[?25hdone\n",
            "  Created wheel for pyspark: filename=pyspark-3.0.2-py2.py3-none-any.whl size=205186690 sha256=d68cd5715f19789c2eb855a56838e05a26fbbe9b1eb0bcd99dac8a2e8e8cd38c\n",
            "  Stored in directory: /root/.cache/pip/wheels/9a/39/f6/970565f38054a830e9a8593f388b36e14d75dba6c6fdafc1ec\n",
            "Successfully built pyspark\n",
            "Installing collected packages: pillow, numpy, py4j, opencv-python, scikit-image, pyspark, implicits, craft-text-detector, spark-ocr\n",
            "  Attempting uninstall: pillow\n",
            "    Found existing installation: Pillow 7.1.2\n",
            "    Uninstalling Pillow-7.1.2:\n",
            "      Successfully uninstalled Pillow-7.1.2\n",
            "  Attempting uninstall: numpy\n",
            "    Found existing installation: numpy 1.21.6\n",
            "    Uninstalling numpy-1.21.6:\n",
            "      Successfully uninstalled numpy-1.21.6\n",
            "  Attempting uninstall: opencv-python\n",
            "    Found existing installation: opencv-python 4.6.0.66\n",
            "    Uninstalling opencv-python-4.6.0.66:\n",
            "      Successfully uninstalled opencv-python-4.6.0.66\n",
            "  Attempting uninstall: scikit-image\n",
            "    Found existing installation: scikit-image 0.18.3\n",
            "    Uninstalling scikit-image-0.18.3:\n",
            "      Successfully uninstalled scikit-image-0.18.3\n",
            "\u001b[31mERROR: pip's dependency resolver does not currently take into account all the packages that are installed. This behaviour is the source of the following dependency conflicts.\n",
            "xarray-einstats 0.2.2 requires numpy>=1.21, but you have numpy 1.19.5 which is incompatible.\n",
            "tensorflow 2.9.2 requires numpy>=1.20, but you have numpy 1.19.5 which is incompatible.\n",
            "jaxlib 0.3.22+cuda11.cudnn805 requires numpy>=1.20, but you have numpy 1.19.5 which is incompatible.\n",
            "jax 0.3.23 requires numpy>=1.20, but you have numpy 1.19.5 which is incompatible.\n",
            "cmdstanpy 1.0.7 requires numpy>=1.21, but you have numpy 1.19.5 which is incompatible.\u001b[0m\n",
            "Successfully installed craft-text-detector-0.4.2 implicits-1.0.2 numpy-1.19.5 opencv-python-4.5.4.60 pillow-8.1.2 py4j-0.10.9 pyspark-3.0.2 scikit-image-0.18.1 spark-ocr-4.0.1+spark30\n"
          ]
        },
        {
          "output_type": "display_data",
          "data": {
            "application/vnd.colab-display-data+json": {
              "pip_warning": {
                "packages": [
                  "PIL",
                  "numpy"
                ]
              }
            }
          },
          "metadata": {}
        }
      ],
      "source": [
        "#version = secret.split(\"-\")[0]\n",
        "#%pip install spark-ocr==$version+spark32 --extra-index-url=https://pypi.johnsnowlabs.com/$secret --upgrade\n",
        "%pip install /content/spark_ocr-4.0.1+spark30-py3-none-any.whl"
      ]
    },
    {
      "cell_type": "markdown",
      "metadata": {
        "id": "xSjqsUX-O8vO"
      },
      "source": [
        "**Attention!**\n",
        "\n",
        "After everything is installed we restart runtime.\n"
      ]
    },
    {
      "cell_type": "code",
      "execution_count": null,
      "metadata": {
        "id": "kFno0VvOO72o"
      },
      "outputs": [],
      "source": [
        "import os\n",
        "os.kill(os.getpid(), 9)"
      ]
    },
    {
      "cell_type": "markdown",
      "source": [
        "# Inference (TD + TSR)"
      ],
      "metadata": {
        "id": "R7sQerV7YoYy"
      }
    },
    {
      "cell_type": "markdown",
      "source": [
        "This notebooks have to different inferences to evaluate the TSR:\n",
        "\n",
        "\n",
        "*   SparkOCR (TD sparkocr based in cascadetabnet and TSR based in traditional methods)\n",
        "*   DETR (TD sparkocr based in cascadetabnet and TSR based DETR)\n",
        "\n"
      ],
      "metadata": {
        "id": "3VZ1JkVYaBcm"
      }
    },
    {
      "cell_type": "markdown",
      "source": [
        "## 1.- SparkOCR (TD + TSR)"
      ],
      "metadata": {
        "id": "wFlFTI8cW5HJ"
      }
    },
    {
      "cell_type": "markdown",
      "source": [
        "Run Spark OCR"
      ],
      "metadata": {
        "id": "DbYKcwm3NcdR"
      }
    },
    {
      "cell_type": "code",
      "execution_count": null,
      "metadata": {
        "colab": {
          "base_uri": "https://localhost:8080/",
          "height": 295
        },
        "id": "WqIfN0HrVtzQ",
        "outputId": "7be24c86-2f20-4f14-c320-e520d0f5d1a8"
      },
      "outputs": [
        {
          "output_type": "stream",
          "name": "stdout",
          "text": [
            "Spark version: 3.0.2\n",
            "Spark NLP version: 4.0.0\n",
            "Spark OCR version: 4.0.1\n",
            "\n"
          ]
        },
        {
          "output_type": "execute_result",
          "data": {
            "text/plain": [
              "<pyspark.sql.session.SparkSession at 0x7f1e6ea06150>"
            ],
            "text/html": [
              "\n",
              "            <div>\n",
              "                <p><b>SparkSession - in-memory</b></p>\n",
              "                \n",
              "        <div>\n",
              "            <p><b>SparkContext</b></p>\n",
              "\n",
              "            <p><a href=\"http://b850af64a466:4040\">Spark UI</a></p>\n",
              "\n",
              "            <dl>\n",
              "              <dt>Version</dt>\n",
              "                <dd><code>v3.0.2</code></dd>\n",
              "              <dt>Master</dt>\n",
              "                <dd><code>local[*]</code></dd>\n",
              "              <dt>AppName</dt>\n",
              "                <dd><code>Spark OCR</code></dd>\n",
              "            </dl>\n",
              "        </div>\n",
              "        \n",
              "            </div>\n",
              "        "
            ]
          },
          "metadata": {},
          "execution_count": 1
        }
      ],
      "source": [
        "import os\n",
        "import sys\n",
        "\n",
        "license = \"\"\n",
        "secret = \"\"\n",
        "AWS_ACCESS_KEY_ID = \"\"\n",
        "AWS_SECRET_ACCESS_KEY = \"\"\n",
        "AWS_SESSION_TOKEN = \"\"\n",
        "\n",
        "os.environ[\"AWS_ACCESS_KEY_ID\"] = AWS_ACCESS_KEY_ID\n",
        "os.environ[\"AWS_SECRET_ACCESS_KEY\"] = AWS_SECRET_ACCESS_KEY\n",
        "os.environ[\"AWS_SESSION_TOKEN\"] = AWS_SESSION_TOKEN\n",
        "    \n",
        "if license:\n",
        "    os.environ['JSL_OCR_LICENSE'] = license\n",
        "    \n",
        "from pyspark import SparkConf\n",
        "from sparkocr import start\n",
        "\n",
        "spark = start(\n",
        "    #secret=secret\n",
        "    jar_path = \"/content/\")\n",
        "\n",
        "spark"
      ]
    },
    {
      "cell_type": "markdown",
      "metadata": {
        "id": "WJN0-wEsluG_"
      },
      "source": [
        "Generate result."
      ]
    },
    {
      "cell_type": "code",
      "execution_count": null,
      "metadata": {
        "colab": {
          "base_uri": "https://localhost:8080/"
        },
        "id": "XV8QtzewGaau",
        "outputId": "27f9529f-7485-4949-bf89-ccebda72fe3b"
      },
      "outputs": [
        {
          "output_type": "stream",
          "name": "stdout",
          "text": [
            "+--------------------+-------------------+------+--------------------+\n",
            "|                path|   modificationTime|length|             content|\n",
            "+--------------------+-------------------+------+--------------------+\n",
            "|file:/content/TRA...|2019-03-27 22:06:30|860265|[FF D8 FF E0 00 1...|\n",
            "|file:/content/TRA...|2019-03-27 22:06:30|795713|[FF D8 FF E0 00 1...|\n",
            "|file:/content/TRA...|2019-03-27 22:06:30|748264|[FF D8 FF E0 00 1...|\n",
            "|file:/content/TRA...|2019-03-27 22:06:30|692970|[FF D8 FF E0 00 1...|\n",
            "|file:/content/TRA...|2019-03-27 22:06:30|690770|[FF D8 FF E0 00 1...|\n",
            "|file:/content/TRA...|2019-03-27 22:06:30|666634|[FF D8 FF E0 00 1...|\n",
            "|file:/content/TRA...|2019-03-27 22:06:30|655800|[FF D8 FF E0 00 1...|\n",
            "|file:/content/TRA...|2019-03-27 22:06:30|651283|[FF D8 FF E0 00 1...|\n",
            "|file:/content/TRA...|2019-03-27 22:06:30|641953|[FF D8 FF E0 00 1...|\n",
            "|file:/content/TRA...|2019-03-27 22:06:30|624791|[FF D8 FF E0 00 1...|\n",
            "|file:/content/TRA...|2019-03-27 22:06:30|619831|[FF D8 FF E0 00 1...|\n",
            "|file:/content/TRA...|2019-03-27 22:06:30|619400|[FF D8 FF E0 00 1...|\n",
            "|file:/content/TRA...|2019-03-27 22:06:30|611580|[FF D8 FF E0 00 1...|\n",
            "|file:/content/TRA...|2019-03-27 22:06:30|607234|[FF D8 FF E0 00 1...|\n",
            "|file:/content/TRA...|2019-03-27 22:06:30|571042|[FF D8 FF E0 00 1...|\n",
            "|file:/content/TRA...|2019-03-27 22:06:30|569725|[FF D8 FF E0 00 1...|\n",
            "|file:/content/TRA...|2019-03-27 22:06:30|562035|[FF D8 FF E0 00 1...|\n",
            "|file:/content/TRA...|2019-03-27 22:06:30|553564|[FF D8 FF E0 00 1...|\n",
            "|file:/content/TRA...|2019-03-27 22:06:30|534586|[FF D8 FF E0 00 1...|\n",
            "|file:/content/TRA...|2019-03-27 22:06:30|520264|[FF D8 FF E0 00 1...|\n",
            "+--------------------+-------------------+------+--------------------+\n",
            "only showing top 20 rows\n",
            "\n"
          ]
        }
      ],
      "source": [
        "from sparkocr.transformers import *\n",
        "from sparkocr.enums import *\n",
        "from sparkocr.utils import display_images, display_tables\n",
        "from pyspark.ml import PipelineModel\n",
        "\n",
        "imagePath = \"/content/TRACKB2_test_modern/*\" #cTDaR_t10079.\n",
        "\n",
        "df = spark.read.format(\"binaryFile\").load(imagePath)\n",
        "df.show()"
      ]
    },
    {
      "cell_type": "code",
      "execution_count": null,
      "metadata": {
        "colab": {
          "base_uri": "https://localhost:8080/"
        },
        "id": "NG5e8wvIGr5i",
        "outputId": "4f1a9444-ae58-4a95-e514-e87c505428a8"
      },
      "outputs": [
        {
          "output_type": "stream",
          "name": "stdout",
          "text": [
            "general_model_table_detection_v2 download started this may take some time.\n",
            "Approximate size to download 264.7 MB\n"
          ]
        }
      ],
      "source": [
        "binary_to_image = BinaryToImage()\n",
        "\n",
        "# Detect tables on the page using pretrained model\n",
        "# It can be finetuned for have more accurate results for more specific documents\n",
        "table_detector = ImageTableDetector.pretrained(\"general_model_table_detection_v2\", \"en\", \"clinical/ocr\")\n",
        "table_detector.setInputCol(\"image\")\n",
        "table_detector.setOutputCol(\"region\")\n",
        "\n",
        "# Draw detected region's with table to the page\n",
        "draw_regions = ImageDrawRegions()\n",
        "draw_regions.setInputCol(\"image\")\n",
        "draw_regions.setInputRegionsCol(\"region\")\n",
        "draw_regions.setOutputCol(\"image_with_regions\")\n",
        "draw_regions.setRectColor(Color.red)\n",
        "\n",
        "# Extract table regions to separate images\n",
        "splitter = ImageSplitRegions()\n",
        "splitter.setInputCol(\"image\")\n",
        "splitter.setInputRegionsCol(\"region\")\n",
        "splitter.setOutputCol(\"table_image\")\n",
        "splitter.setDropCols(\"image\")\n",
        "\n",
        "# Detect cells on the table image\n",
        "cell_detector = ImageTableCellDetector()\n",
        "cell_detector.setInputCol(\"table_image\")\n",
        "cell_detector.setOutputCol(\"cells\")\n",
        "cell_detector.setAlgoType(\"morphops\")\n",
        "#cell_detector.setDrawDetectedLines(True)\n",
        "\n",
        "# Extract text from the detected cells \n",
        "table_recognition = ImageCellsToTextRegions()\n",
        "table_recognition.setInputCol(\"table_image\")\n",
        "table_recognition.setCellsCol('cells')\n",
        "table_recognition.setOutputCol('txtRegions')\n",
        "\n",
        "pipeline_table = PipelineModel(stages=[\n",
        "    binary_to_image,\n",
        "    table_detector,\n",
        "    draw_regions,\n",
        "    splitter,\n",
        "    cell_detector,\n",
        "    table_recognition,\n",
        "])\n",
        "\n",
        "tables_results = pipeline_table.transform(df).cache()\n",
        "\n",
        "# tables_results.show(truncate=False)\n",
        "# display_images(tables_results, \"output_image\")\n"
      ]
    },
    {
      "cell_type": "code",
      "execution_count": null,
      "metadata": {
        "colab": {
          "base_uri": "https://localhost:8080/"
        },
        "id": "8G_-n1hCYYFs",
        "outputId": "fcd306a1-a336-41d3-ff47-205e766acfa1"
      },
      "outputs": [
        {
          "output_type": "stream",
          "name": "stdout",
          "text": [
            "cTDaR_t10071\n",
            "cTDaR_t10080\n",
            "cTDaR_t10042\n",
            "cTDaR_t10085\n",
            "cTDaR_t10064\n",
            "cTDaR_t10086\n",
            "cTDaR_t10086\n",
            "cTDaR_t10043\n",
            "cTDaR_t10045\n",
            "cTDaR_t10052\n",
            "cTDaR_t10031\n",
            "cTDaR_t10031\n",
            "cTDaR_t10098\n",
            "cTDaR_t10098\n",
            "cTDaR_t10050\n",
            "cTDaR_t10038\n",
            "cTDaR_t10056\n",
            "cTDaR_t10056\n",
            "cTDaR_t10002\n",
            "cTDaR_t10073\n",
            "cTDaR_t10072\n",
            "cTDaR_t10027\n",
            "cTDaR_t10027\n",
            "cTDaR_t10023\n",
            "cTDaR_t10019\n",
            "cTDaR_t10019\n",
            "cTDaR_t10019\n",
            "cTDaR_t10048\n",
            "cTDaR_t10009\n",
            "cTDaR_t10026\n",
            "cTDaR_t10044\n",
            "cTDaR_t10051\n",
            "cTDaR_t10093\n",
            "cTDaR_t10093\n",
            "cTDaR_t10099\n",
            "cTDaR_t10099\n",
            "cTDaR_t10001\n",
            "cTDaR_t10020\n",
            "cTDaR_t10015\n",
            "cTDaR_t10054\n",
            "cTDaR_t10067\n",
            "cTDaR_t10096\n",
            "cTDaR_t10096\n",
            "cTDaR_t10046\n",
            "cTDaR_t10041\n",
            "cTDaR_t10004\n",
            "cTDaR_t10053\n",
            "cTDaR_t10047\n",
            "cTDaR_t10075\n",
            "cTDaR_t10075\n",
            "cTDaR_t10065\n",
            "cTDaR_t10091\n",
            "cTDaR_t10091\n",
            "cTDaR_t10035\n",
            "cTDaR_t10035\n",
            "cTDaR_t10061\n",
            "cTDaR_t10070\n",
            "cTDaR_t10070\n",
            "cTDaR_t10037\n",
            "cTDaR_t10037\n",
            "cTDaR_t10037\n",
            "cTDaR_t10037\n",
            "cTDaR_t10037\n",
            "cTDaR_t10006\n",
            "cTDaR_t10055\n",
            "cTDaR_t10005\n",
            "cTDaR_t10005\n",
            "cTDaR_t10005\n",
            "cTDaR_t10018\n",
            "cTDaR_t10017\n",
            "cTDaR_t10059\n",
            "cTDaR_t10040\n",
            "cTDaR_t10012\n",
            "cTDaR_t10089\n",
            "cTDaR_t10060\n",
            "cTDaR_t10063\n",
            "cTDaR_t10069\n",
            "cTDaR_t10069\n",
            "cTDaR_t10032\n",
            "cTDaR_t10095\n",
            "cTDaR_t10095\n",
            "cTDaR_t10078\n",
            "cTDaR_t10011\n",
            "cTDaR_t10058\n",
            "cTDaR_t10058\n",
            "cTDaR_t10058\n",
            "cTDaR_t10029\n",
            "cTDaR_t10094\n",
            "cTDaR_t10094\n",
            "cTDaR_t10088\n",
            "cTDaR_t10010\n",
            "cTDaR_t10008\n",
            "cTDaR_t10008\n",
            "cTDaR_t10008\n",
            "cTDaR_t10081\n",
            "cTDaR_t10007\n",
            "cTDaR_t10028\n",
            "cTDaR_t10028\n",
            "cTDaR_t10028\n",
            "cTDaR_t10028\n",
            "cTDaR_t10024\n",
            "cTDaR_t10024\n",
            "cTDaR_t10097\n",
            "cTDaR_t10084\n",
            "cTDaR_t10082\n",
            "cTDaR_t10082\n",
            "cTDaR_t10000\n",
            "cTDaR_t10016\n",
            "cTDaR_t10057\n",
            "cTDaR_t10034\n",
            "cTDaR_t10021\n",
            "cTDaR_t10087\n",
            "cTDaR_t10014\n",
            "cTDaR_t10014\n",
            "cTDaR_t10014\n",
            "cTDaR_t10033\n",
            "cTDaR_t10049\n",
            "cTDaR_t10076\n",
            "cTDaR_t10074\n",
            "cTDaR_t10074\n",
            "cTDaR_t10074\n",
            "cTDaR_t10074\n",
            "cTDaR_t10083\n",
            "cTDaR_t10062\n",
            "cTDaR_t10090\n",
            "cTDaR_t10003\n",
            "cTDaR_t10030\n",
            "cTDaR_t10068\n",
            "cTDaR_t10068\n",
            "cTDaR_t10036\n",
            "cTDaR_t10079\n",
            "cTDaR_t10092\n",
            "cTDaR_t10077\n",
            "cTDaR_t10022\n",
            "cTDaR_t10013\n",
            "cTDaR_t10066\n",
            "cTDaR_t10039\n",
            "cTDaR_t10025\n",
            "result/\n",
            "result/cTDaR_t10055.xml\n",
            "result/cTDaR_t10090.xml\n",
            "result/cTDaR_t10001.xml\n",
            "result/cTDaR_t10022.xml\n",
            "result/cTDaR_t10094.xml\n",
            "result/cTDaR_t10098.xml\n",
            "result/cTDaR_t10092.xml\n",
            "result/cTDaR_t10012.xml\n",
            "result/cTDaR_t10037.xml\n",
            "result/cTDaR_t10065.xml\n",
            "result/cTDaR_t10085.xml\n",
            "result/cTDaR_t10067.xml\n",
            "result/cTDaR_t10028.xml\n",
            "result/cTDaR_t10025.xml\n",
            "result/cTDaR_t10024.xml\n",
            "result/cTDaR_t10093.xml\n",
            "result/cTDaR_t10041.xml\n",
            "result/cTDaR_t10008.xml\n",
            "result/cTDaR_t10066.xml\n",
            "result/cTDaR_t10091.xml\n",
            "result/cTDaR_t10061.xml\n",
            "result/cTDaR_t10078.xml\n",
            "result/cTDaR_t10013.xml\n",
            "result/cTDaR_t10020.xml\n",
            "result/cTDaR_t10045.xml\n",
            "result/cTDaR_t10023.xml\n",
            "result/cTDaR_t10062.xml\n",
            "result/cTDaR_t10069.xml\n",
            "result/cTDaR_t10004.xml\n",
            "result/cTDaR_t10079.xml\n",
            "result/cTDaR_t10081.xml\n",
            "result/cTDaR_t10002.xml\n",
            "result/cTDaR_t10017.xml\n",
            "result/cTDaR_t10053.xml\n",
            "result/cTDaR_t10070.xml\n",
            "result/cTDaR_t10034.xml\n",
            "result/cTDaR_t10021.xml\n",
            "result/cTDaR_t10086.xml\n",
            "result/cTDaR_t10060.xml\n",
            "result/cTDaR_t10036.xml\n",
            "result/cTDaR_t10047.xml\n",
            "result/cTDaR_t10039.xml\n",
            "result/cTDaR_t10052.xml\n",
            "result/cTDaR_t10009.xml\n",
            "result/cTDaR_t10071.xml\n",
            "result/cTDaR_t10050.xml\n",
            "result/cTDaR_t10032.xml\n",
            "result/cTDaR_t10088.xml\n",
            "result/cTDaR_t10089.xml\n",
            "result/cTDaR_t10006.xml\n",
            "result/cTDaR_t10049.xml\n",
            "result/cTDaR_t10064.xml\n",
            "result/cTDaR_t10048.xml\n",
            "result/cTDaR_t10016.xml\n",
            "result/cTDaR_t10040.xml\n",
            "result/cTDaR_t10077.xml\n",
            "result/cTDaR_t10030.xml\n",
            "result/cTDaR_t10014.xml\n",
            "result/cTDaR_t10015.xml\n",
            "result/cTDaR_t10042.xml\n",
            "result/cTDaR_t10075.xml\n",
            "result/cTDaR_t10019.xml\n",
            "result/cTDaR_t10054.xml\n",
            "result/cTDaR_t10003.xml\n",
            "result/cTDaR_t10096.xml\n",
            "result/cTDaR_t10073.xml\n",
            "result/cTDaR_t10080.xml\n",
            "result/cTDaR_t10097.xml\n",
            "result/cTDaR_t10029.xml\n",
            "result/cTDaR_t10044.xml\n",
            "result/cTDaR_t10083.xml\n",
            "result/cTDaR_t10076.xml\n",
            "result/cTDaR_t10033.xml\n",
            "result/cTDaR_t10063.xml\n",
            "result/cTDaR_t10018.xml\n",
            "result/cTDaR_t10099.xml\n",
            "result/cTDaR_t10059.xml\n",
            "result/cTDaR_t10058.xml\n",
            "result/cTDaR_t10074.xml\n",
            "result/cTDaR_t10087.xml\n",
            "result/cTDaR_t10026.xml\n",
            "result/cTDaR_t10010.xml\n",
            "result/cTDaR_t10072.xml\n",
            "result/cTDaR_t10038.xml\n",
            "result/cTDaR_t10084.xml\n",
            "result/cTDaR_t10046.xml\n",
            "result/cTDaR_t10057.xml\n",
            "result/cTDaR_t10082.xml\n",
            "result/cTDaR_t10043.xml\n",
            "result/cTDaR_t10056.xml\n",
            "result/cTDaR_t10027.xml\n",
            "result/cTDaR_t10035.xml\n",
            "result/cTDaR_t10005.xml\n",
            "result/cTDaR_t10007.xml\n",
            "result/cTDaR_t10031.xml\n",
            "result/cTDaR_t10051.xml\n",
            "result/cTDaR_t10011.xml\n",
            "result/cTDaR_t10068.xml\n",
            "result/cTDaR_t10095.xml\n",
            "result/cTDaR_t10000.xml\n"
          ]
        }
      ],
      "source": [
        "!mkdir result\n",
        "from sparkocr.transformers import *\n",
        "from sparkocr.enums import *\n",
        "from pyspark.ml import PipelineModel\n",
        "from lxml import etree\n",
        "from xml.etree.ElementTree import ElementTree, Element\n",
        "from os.path import exists\n",
        "\n",
        "#score_thr = 0.\n",
        "\n",
        "def get_Coords_t(tbl):\n",
        "  x1 = str(int(tbl.x))\n",
        "  y1 = str(int(tbl.y))\n",
        "  x2 = str(int(tbl.x + tbl.width))\n",
        "  y2 = str(int(tbl.y + tbl.height))\n",
        "  k = x1 + \",\" + y1 + \" \" + x1 + \",\" + y2 + \" \" + x2 + \",\" + y2 + \" \" + x2 + \",\" + y1\n",
        "  coords = etree.Element('Coords')\n",
        "  coords.attrib['points'] = k\n",
        "  return coords\n",
        "\n",
        "def get_Coords_c(tbl, region):\n",
        "  x1 = str(int(tbl[0] + region.x))\n",
        "  y1 = str(int(tbl[1] + region.y))\n",
        "  x2 = str(int(tbl[0] + tbl[2] + region.x))\n",
        "  y2 = str(int(tbl[1] + tbl[3] + region.y))\n",
        "  k = x1 + \",\" + y1 + \" \" + x1 + \",\" + y2 + \" \" + x2 + \",\" + y2 + \" \" + x2 + \",\" + y1\n",
        "  coords = etree.Element('Coords')\n",
        "  coords.attrib['points'] = k\n",
        "  return coords\n",
        "\n",
        "for row in tables_results.select('path', 'region', 'txtRegions').rdd.toLocalIterator():\n",
        "  fname = row.path.split(\"/\")[-1]\n",
        "  fname = fname.split(\".\")[0]\n",
        "  print(fname)\n",
        "  out_file = \"result/\" + fname + \".xml\"\n",
        "  file_exists = exists(out_file)\n",
        "  if file_exists:\n",
        "    root = etree.parse(out_file).getroot()\n",
        "  else:\n",
        "    root = etree.Element('document')\n",
        "    root.attrib['filename'] = fname\n",
        "  result_ = row.txtRegions\n",
        "  if (len(result_) > 0):\n",
        "    region = row.region\n",
        "    tble = etree.Element('table')\n",
        "    tble.append(get_Coords_t(region))\n",
        "    clls = {}\n",
        "    row = -1\n",
        "    for cll in result_:\n",
        "      row = row + 1\n",
        "      column = -1\n",
        "      for cll_ in cll:\n",
        "        column =  column + 1\n",
        "        for cll__ in cll_:\n",
        "          if cll__ is not None:\n",
        "            clle = etree.Element('cell')\n",
        "            clle.set(\"start-row\", str(row))\n",
        "            clle.set(\"end-row\", str(row))\n",
        "            clle.set(\"start-col\", str(column))\n",
        "            clle.set(\"end-col\", str(column))\n",
        "            clle.append(get_Coords_c(cll__, region))\n",
        "            tble.append(clle)\n",
        "    root.append(tble)\n",
        "\n",
        "  #print(etree.tostring(root, xml_declaration = True, pretty_print = True).decode('UTF-8'))\n",
        "  tree = ElementTree(root)\n",
        "  tree.write(out_file)\n",
        "\n",
        "        #show_result(img, result,('Bordered', 'cell', 'Borderless'), score_thr=0.85, out_file = \"result_img/\" + fname + \".jpg\")\n",
        "\n",
        "!tar -cvzf reg_spark.tar.gz result/\n",
        "# !tar -cvzf res_img_spark.tar.gz result_img/"
      ]
    },
    {
      "cell_type": "markdown",
      "source": [
        "## 2.- DETR TSR (with SparkOCR TD)"
      ],
      "metadata": {
        "id": "1IOJhlHTXKZB"
      }
    },
    {
      "cell_type": "code",
      "source": [
        "from sparkocr.transformers import *\n",
        "from sparkocr.enums import *\n",
        "from pyspark.ml import PipelineModel\n",
        "from lxml import etree\n",
        "from xml.etree.ElementTree import ElementTree, Element\n",
        "\n",
        "score_thr = 0.5\n",
        "\n",
        "#spark.conf.set(\"spark.jsl.settings.pretrained.s3_bucket\", \"dev.johnsnowlabs.com\")\n",
        "#spark.sparkContext.setLogLevel('DEBUG')\n",
        "\n",
        "def pipeline(td1_model, td2_model, td3_model):\n",
        "    binary_to_image = BinaryToImage()\n",
        "    # need set image type for correct work TableDetection model\n",
        "    binary_to_image.setImageType(ImageType.TYPE_3BYTE_BGR)\n",
        "\n",
        "    table_detector = ImageTableDetector.pretrained(td1_model, td2_model, td3_model)\n",
        "    table_detector.setInputCol(\"image\")\n",
        "    table_detector.setOutputCol(\"region\")\n",
        "    table_detector.setScoreThreshold(score_thr)\n",
        "\n",
        "    pipeline = PipelineModel(stages=[\n",
        "        binary_to_image,\n",
        "        table_detector\n",
        "    ])\n",
        "    return pipeline\n",
        "    "
      ],
      "metadata": {
        "id": "mO9GetHdZAhN"
      },
      "execution_count": null,
      "outputs": []
    },
    {
      "cell_type": "code",
      "source": [
        "df_rest = df\n",
        "while(df_rest.count() > 0):\n",
        "    print(\"===\", df_rest.count())\n",
        "    df_ = df_rest.limit(5)\n",
        "    df_rest = df_rest.subtract(df_)\n",
        "    result = pipeline(\"general_model_table_detection_v2\", \"en\", \"clinical/ocr\").transform(df_).cache()\n",
        "    result.select(['path', 'region']).show(truncate=False)\n",
        "    for row in result.select('path', 'region').rdd.toLocalIterator():\n",
        "        fname = row.path.split(\"/\")[-1]\n",
        "        fname = fname.split(\".\")[0]\n",
        "        print(fname)\n",
        "        root = etree.Element('document')\n",
        "        root.attrib['filename'] = fname\n",
        "        result_ = row.region\n",
        "        if (len(result_) > 0):\n",
        "          i = 1\n",
        "          tbls = {}\n",
        "          for tbl in result_:\n",
        "              #print(\"=================\")\n",
        "              #print(tbl)\n",
        "              #print(\"=================\")\n",
        "              x1 = str(int(tbl.x))\n",
        "              y1 = str(int(tbl.y))\n",
        "              x2 = str(int(tbl.x + tbl.width))\n",
        "              y2 = str(int(tbl.y + tbl.height))\n",
        "              k = x1 + \",\" + y1 + \" \" + x1 + \",\" + y2 + \" \" + x2 + \",\" + y2 + \" \" + x2 + \",\" + y1\n",
        "              #tbls[k] = tbl.score\n",
        "              tble = etree.Element('table')\n",
        "              tble.attrib['id'] = str(i)\n",
        "              i = i + 1\n",
        "              coords = etree.Element('Coords')\n",
        "              coords.attrib['points'] = k\n",
        "              tble.append(coords)\n",
        "              root.append(tble)\n"
      ],
      "metadata": {
        "id": "Xx9h4SvcZf3z"
      },
      "execution_count": null,
      "outputs": []
    },
    {
      "cell_type": "markdown",
      "metadata": {
        "id": "LvgUsjACmDb0"
      },
      "source": [
        "# Evaluation\n",
        "\n",
        "Now compare produced result with ground-truth data and calculate metrics."
      ]
    },
    {
      "cell_type": "markdown",
      "source": [
        "## 1.- SparkOCR (TD + TSR)"
      ],
      "metadata": {
        "id": "qwAJhy3pX_lY"
      }
    },
    {
      "cell_type": "code",
      "execution_count": null,
      "metadata": {
        "colab": {
          "background_save": true
        },
        "id": "n_D-zMiVquNi"
      },
      "outputs": [],
      "source": [
        "%cd \"/content/ctdar_measurement_tool\"\n",
        "!python evaluate.py -trackB2 \"/content/reg_spark.tar.gz\"\n",
        "%cd \"/content\""
      ]
    },
    {
      "cell_type": "markdown",
      "source": [
        "## 2.- DETR TSR (with SparkOCR TD)"
      ],
      "metadata": {
        "id": "tGPA1HE-YCof"
      }
    }
  ],
  "metadata": {
    "colab": {
      "collapsed_sections": [],
      "machine_shape": "hm",
      "provenance": []
    },
    "kernelspec": {
      "display_name": "Python 3",
      "language": "python",
      "name": "python3"
    },
    "language_info": {
      "codemirror_mode": {
        "name": "ipython",
        "version": 3
      },
      "file_extension": ".py",
      "mimetype": "text/x-python",
      "name": "python",
      "nbconvert_exporter": "python",
      "pygments_lexer": "ipython3",
      "version": "3.8.3"
    }
  },
  "nbformat": 4,
  "nbformat_minor": 0
}